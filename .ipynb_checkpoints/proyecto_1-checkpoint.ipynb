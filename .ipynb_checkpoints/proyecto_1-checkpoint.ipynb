{
 "cells": [
  {
   "cell_type": "code",
   "execution_count": 1,
   "id": "76554af8",
   "metadata": {},
   "outputs": [
    {
     "name": "stdout",
     "output_type": "stream",
     "text": [
      "3\n"
     ]
    }
   ],
   "source": [
    "print(1+2)"
   ]
  },
  {
   "cell_type": "code",
   "execution_count": 7,
   "id": "59c6232b",
   "metadata": {},
   "outputs": [
    {
     "name": "stdout",
     "output_type": "stream",
     "text": [
      "18\n"
     ]
    }
   ],
   "source": [
    "print(2*9)"
   ]
  },
  {
   "cell_type": "code",
   "execution_count": 8,
   "id": "f87530a2",
   "metadata": {},
   "outputs": [
    {
     "name": "stdout",
     "output_type": "stream",
     "text": [
      "64\n"
     ]
    }
   ],
   "source": [
    "print(10+54)"
   ]
  },
  {
   "cell_type": "code",
   "execution_count": 9,
   "id": "26b6566b",
   "metadata": {},
   "outputs": [
    {
     "name": "stdout",
     "output_type": "stream",
     "text": [
      "26\n"
     ]
    }
   ],
   "source": [
    "print(1+2+6+8+9)"
   ]
  },
  {
   "cell_type": "code",
   "execution_count": 10,
   "id": "f69cad80",
   "metadata": {},
   "outputs": [
    {
     "name": "stdout",
     "output_type": "stream",
     "text": [
      "JUAN Gonzalez Gimenez\n",
      "JUAN Gonzalez \n"
     ]
    }
   ],
   "source": [
    "def formatea_nombre (nombre, paterno, materno=\"\"):\n",
    "    formato = nombre.upper() + \" \" + paterno.capitalize() + \" \" + materno.capitalize()\n",
    "    return formato\n",
    "print(formatea_nombre(\"juAN\", \"gonZAlez\", \"giMEnez\"))\n",
    "print(formatea_nombre(\"juAN\", \"gonZAlez\"))"
   ]
  },
  {
   "cell_type": "code",
   "execution_count": null,
   "id": "2edff00e",
   "metadata": {},
   "outputs": [],
   "source": []
  }
 ],
 "metadata": {
  "kernelspec": {
   "display_name": "Python 3 (ipykernel)",
   "language": "python",
   "name": "python3"
  },
  "language_info": {
   "codemirror_mode": {
    "name": "ipython",
    "version": 3
   },
   "file_extension": ".py",
   "mimetype": "text/x-python",
   "name": "python",
   "nbconvert_exporter": "python",
   "pygments_lexer": "ipython3",
   "version": "3.10.9"
  }
 },
 "nbformat": 4,
 "nbformat_minor": 5
}
