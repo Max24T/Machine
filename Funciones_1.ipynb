{
 "cells": [
  {
   "cell_type": "code",
   "execution_count": 12,
   "id": "f276d593",
   "metadata": {},
   "outputs": [
    {
     "name": "stdout",
     "output_type": "stream",
     "text": [
      "JUAN Gonzalez Gimenez\n",
      "JUAN Gonzalez \n"
     ]
    }
   ],
   "source": [
    "def formatea_nombre (nombre, paterno, materno=\"\"):\n",
    "    formato = nombre.upper() + \" \" + paterno.capitalize() + \" \" + materno.capitalize()\n",
    "    return formato\n",
    "print(formatea_nombre(\"juAN\", \"gonZAlez\", \"giMEnez\"))\n",
    "print(formatea_nombre(\"juAN\", \"gonZAlez\"))\n"
   ]
  },
  {
   "cell_type": "code",
   "execution_count": 6,
   "id": "05baa55a",
   "metadata": {},
   "outputs": [
    {
     "name": "stdout",
     "output_type": "stream",
     "text": [
      "JHg80\n"
     ]
    }
   ],
   "source": [
    "def crea_clave (nombre, fecha_nacimiento):\n",
    "    clave = \"\"\n",
    "    for vocablo in nombre.split():\n",
    "        clave = clave + vocablo[0]\n",
    "    fecha_nacimiento = str(fecha_nacimiento)\n",
    "    return clave + fecha_nacimiento[-2:]\n",
    "print(crea_clave(\"JUan HErNANdez giMEnez\", 1980))"
   ]
  },
  {
   "cell_type": "code",
   "execution_count": 23,
   "id": "1ab0cca9",
   "metadata": {},
   "outputs": [
    {
     "name": "stdout",
     "output_type": "stream",
     "text": [
      "Adentro EXTERNA PARAMETRO EXTERNA\n"
     ]
    }
   ],
   "source": [
    "externa = \"EXTERNA\"\n",
    "\n",
    "def funcion(parametro):\n",
    "    interna = \"INTERNA\"\n",
    "    print(\"Adentro\", externa, parametro, externa)\n",
    "\n",
    "funcion(\"PARAMETRO\")\n"
   ]
  },
  {
   "cell_type": "code",
   "execution_count": 30,
   "id": "52b7e55d",
   "metadata": {},
   "outputs": [
    {
     "name": "stdout",
     "output_type": "stream",
     "text": [
      "Adentro EXTERNA PARAMETRO EXTERNA\n",
      "Afuera EXTERNA\n"
     ]
    }
   ],
   "source": [
    "externa = \"EXTERNA\"\n",
    "def funcion (parametro):\n",
    "    interna = \"INTERNA\"\n",
    "    print(\"Adentro\", externa, parametro, externa)\n",
    "\n",
    "funcion(\"PARAMETRO\")\n",
    "print(\"Afuera\", externa)"
   ]
  },
  {
   "cell_type": "code",
   "execution_count": null,
   "id": "f0b0985e",
   "metadata": {},
   "outputs": [],
   "source": []
  }
 ],
 "metadata": {
  "kernelspec": {
   "display_name": "Python 3 (ipykernel)",
   "language": "python",
   "name": "python3"
  },
  "language_info": {
   "codemirror_mode": {
    "name": "ipython",
    "version": 3
   },
   "file_extension": ".py",
   "mimetype": "text/x-python",
   "name": "python",
   "nbconvert_exporter": "python",
   "pygments_lexer": "ipython3",
   "version": "3.10.9"
  }
 },
 "nbformat": 4,
 "nbformat_minor": 5
}
