{
 "cells": [
  {
   "cell_type": "code",
   "execution_count": 6,
   "id": "02160796",
   "metadata": {},
   "outputs": [],
   "source": [
    "import pandas as pd\n",
    "import numpy as np"
   ]
  },
  {
   "cell_type": "code",
   "execution_count": 2,
   "id": "9f8c1cd2",
   "metadata": {},
   "outputs": [
    {
     "data": {
      "text/plain": [
       "0    1\n",
       "1    2\n",
       "2    3\n",
       "3    4\n",
       "4    5\n",
       "5    6\n",
       "6    7\n",
       "7    8\n",
       "8    9\n",
       "dtype: int64"
      ]
     },
     "execution_count": 2,
     "metadata": {},
     "output_type": "execute_result"
    }
   ],
   "source": [
    "serie = pd.Series([1,2,3,4,5,6,7,8,9])\n",
    "serie"
   ]
  },
  {
   "cell_type": "code",
   "execution_count": 3,
   "id": "35235c01",
   "metadata": {},
   "outputs": [
    {
     "data": {
      "text/plain": [
       "'Par: 48'"
      ]
     },
     "execution_count": 3,
     "metadata": {},
     "output_type": "execute_result"
    }
   ],
   "source": [
    "def es_par(elemento):\n",
    "    if elemento % 2 == 0:\n",
    "        return \"Par: \" + str(elemento)\n",
    "    else:\n",
    "        return \"Impar: \" + str(elemento)\n",
    "es_par(48)"
   ]
  },
  {
   "cell_type": "code",
   "execution_count": 4,
   "id": "7766bc51",
   "metadata": {},
   "outputs": [
    {
     "data": {
      "text/plain": [
       "0    Impar: 1\n",
       "1      Par: 2\n",
       "2    Impar: 3\n",
       "3      Par: 4\n",
       "4    Impar: 5\n",
       "5      Par: 6\n",
       "6    Impar: 7\n",
       "7      Par: 8\n",
       "8    Impar: 9\n",
       "dtype: object"
      ]
     },
     "execution_count": 4,
     "metadata": {},
     "output_type": "execute_result"
    }
   ],
   "source": [
    "serie.map(es_par)"
   ]
  },
  {
   "cell_type": "code",
   "execution_count": 8,
   "id": "c165421d",
   "metadata": {},
   "outputs": [
    {
     "data": {
      "text/html": [
       "<div>\n",
       "<style scoped>\n",
       "    .dataframe tbody tr th:only-of-type {\n",
       "        vertical-align: middle;\n",
       "    }\n",
       "\n",
       "    .dataframe tbody tr th {\n",
       "        vertical-align: top;\n",
       "    }\n",
       "\n",
       "    .dataframe thead th {\n",
       "        text-align: right;\n",
       "    }\n",
       "</style>\n",
       "<table border=\"1\" class=\"dataframe\">\n",
       "  <thead>\n",
       "    <tr style=\"text-align: right;\">\n",
       "      <th></th>\n",
       "      <th>0</th>\n",
       "      <th>1</th>\n",
       "      <th>2</th>\n",
       "      <th>3</th>\n",
       "    </tr>\n",
       "  </thead>\n",
       "  <tbody>\n",
       "    <tr>\n",
       "      <th>0</th>\n",
       "      <td>0</td>\n",
       "      <td>1</td>\n",
       "      <td>2</td>\n",
       "      <td>3</td>\n",
       "    </tr>\n",
       "    <tr>\n",
       "      <th>1</th>\n",
       "      <td>4</td>\n",
       "      <td>5</td>\n",
       "      <td>6</td>\n",
       "      <td>7</td>\n",
       "    </tr>\n",
       "    <tr>\n",
       "      <th>2</th>\n",
       "      <td>8</td>\n",
       "      <td>9</td>\n",
       "      <td>10</td>\n",
       "      <td>11</td>\n",
       "    </tr>\n",
       "    <tr>\n",
       "      <th>3</th>\n",
       "      <td>12</td>\n",
       "      <td>13</td>\n",
       "      <td>14</td>\n",
       "      <td>15</td>\n",
       "    </tr>\n",
       "  </tbody>\n",
       "</table>\n",
       "</div>"
      ],
      "text/plain": [
       "    0   1   2   3\n",
       "0   0   1   2   3\n",
       "1   4   5   6   7\n",
       "2   8   9  10  11\n",
       "3  12  13  14  15"
      ]
     },
     "execution_count": 8,
     "metadata": {},
     "output_type": "execute_result"
    }
   ],
   "source": [
    "dataframe =pd.DataFrame(np.arange(16).reshape(4,4))\n",
    "dataframe"
   ]
  },
  {
   "cell_type": "code",
   "execution_count": 10,
   "id": "e07d42d2",
   "metadata": {},
   "outputs": [
    {
     "data": {
      "text/html": [
       "<div>\n",
       "<style scoped>\n",
       "    .dataframe tbody tr th:only-of-type {\n",
       "        vertical-align: middle;\n",
       "    }\n",
       "\n",
       "    .dataframe tbody tr th {\n",
       "        vertical-align: top;\n",
       "    }\n",
       "\n",
       "    .dataframe thead th {\n",
       "        text-align: right;\n",
       "    }\n",
       "</style>\n",
       "<table border=\"1\" class=\"dataframe\">\n",
       "  <thead>\n",
       "    <tr style=\"text-align: right;\">\n",
       "      <th></th>\n",
       "      <th>0</th>\n",
       "      <th>1</th>\n",
       "      <th>2</th>\n",
       "      <th>3</th>\n",
       "    </tr>\n",
       "  </thead>\n",
       "  <tbody>\n",
       "    <tr>\n",
       "      <th>0</th>\n",
       "      <td>Par: 0</td>\n",
       "      <td>Impar: 1</td>\n",
       "      <td>Par: 2</td>\n",
       "      <td>Impar: 3</td>\n",
       "    </tr>\n",
       "    <tr>\n",
       "      <th>1</th>\n",
       "      <td>Par: 4</td>\n",
       "      <td>Impar: 5</td>\n",
       "      <td>Par: 6</td>\n",
       "      <td>Impar: 7</td>\n",
       "    </tr>\n",
       "    <tr>\n",
       "      <th>2</th>\n",
       "      <td>Par: 8</td>\n",
       "      <td>Impar: 9</td>\n",
       "      <td>Par: 10</td>\n",
       "      <td>Impar: 11</td>\n",
       "    </tr>\n",
       "    <tr>\n",
       "      <th>3</th>\n",
       "      <td>Par: 12</td>\n",
       "      <td>Impar: 13</td>\n",
       "      <td>Par: 14</td>\n",
       "      <td>Impar: 15</td>\n",
       "    </tr>\n",
       "  </tbody>\n",
       "</table>\n",
       "</div>"
      ],
      "text/plain": [
       "         0          1        2          3\n",
       "0   Par: 0   Impar: 1   Par: 2   Impar: 3\n",
       "1   Par: 4   Impar: 5   Par: 6   Impar: 7\n",
       "2   Par: 8   Impar: 9  Par: 10  Impar: 11\n",
       "3  Par: 12  Impar: 13  Par: 14  Impar: 15"
      ]
     },
     "execution_count": 10,
     "metadata": {},
     "output_type": "execute_result"
    }
   ],
   "source": [
    "dataframe.applymap(es_par)"
   ]
  },
  {
   "cell_type": "code",
   "execution_count": 16,
   "id": "e7a2f357",
   "metadata": {},
   "outputs": [],
   "source": [
    "def es_suma_par(elemento):\n",
    "    if np.sum(elemento) % 2 == 0:\n",
    "        return \"Suma par: \" + str(np.sum(elemento))\n",
    "    else:\n",
    "        return \"Impar: \" + str(np.sum(elemento))"
   ]
  },
  {
   "cell_type": "code",
   "execution_count": 20,
   "id": "318e12d4",
   "metadata": {},
   "outputs": [
    {
     "data": {
      "text/plain": [
       "0     Suma par: 6\n",
       "1    Suma par: 22\n",
       "2    Suma par: 38\n",
       "3    Suma par: 54\n",
       "dtype: object"
      ]
     },
     "execution_count": 20,
     "metadata": {},
     "output_type": "execute_result"
    }
   ],
   "source": [
    "dataframe.apply(es_suma_par, axis=1)"
   ]
  },
  {
   "cell_type": "code",
   "execution_count": null,
   "id": "a782803b",
   "metadata": {},
   "outputs": [],
   "source": [
    "# pd.merge(dataframe_1, dataframe_2)\n",
    "# # pd.merge(dataframe_1, dataframe_2, left_on=\"columna1, right_on=\"columna_2, how=\"outer\")\n",
    "# suffixes=(\"sufijo_1\")\n",
    "# pd.concat ([dataframe_1, dataframe_2], axis = 1, sort = True)\n",
    "# pd.concat ([dataframe_1, dataframe_2], axis = 1, join = \"inner\")\n",
    "\n",
    "# pd.concat ([dataframe_1, dataframe_2], keys = [\"dataset1\", \"dataset2\"], sort = True)\n",
    "#groupby(\"Año\")\n"
   ]
  }
 ],
 "metadata": {
  "kernelspec": {
   "display_name": "Python 3 (ipykernel)",
   "language": "python",
   "name": "python3"
  },
  "language_info": {
   "codemirror_mode": {
    "name": "ipython",
    "version": 3
   },
   "file_extension": ".py",
   "mimetype": "text/x-python",
   "name": "python",
   "nbconvert_exporter": "python",
   "pygments_lexer": "ipython3",
   "version": "3.10.9"
  }
 },
 "nbformat": 4,
 "nbformat_minor": 5
}
